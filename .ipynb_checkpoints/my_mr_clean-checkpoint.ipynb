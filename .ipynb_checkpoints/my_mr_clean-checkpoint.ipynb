{
 "cells": [
  {
   "cell_type": "code",
   "execution_count": 1,
   "id": "d58a8456",
   "metadata": {},
   "outputs": [],
   "source": [
    "import requests"
   ]
  },
  {
   "cell_type": "code",
   "execution_count": 2,
   "id": "37e4b162",
   "metadata": {},
   "outputs": [],
   "source": [
    "import re "
   ]
  },
  {
   "cell_type": "code",
   "execution_count": 7,
   "id": "156bb7a4",
   "metadata": {},
   "outputs": [],
   "source": [
    "import seaborn as st_data_vis"
   ]
  },
  {
   "cell_type": "code",
   "execution_count": 8,
   "id": "cec87f1d",
   "metadata": {},
   "outputs": [],
   "source": [
    "def get_content(data):\n",
    "    \n",
    "    url = \"https://en.wikipedia.org/w/api.php\"\n",
    "    response = requests.get(url, params = {\"action\": \"query\", \"prop\": \"extracts\", \"titles\": data, \"format\": \"json\"})\n",
    "    return response\n",
    "\n",
    "# data = get_content(\"Ozone_layer\")"
   ]
  },
  {
   "cell_type": "code",
   "execution_count": 13,
   "id": "7857a05c",
   "metadata": {},
   "outputs": [],
   "source": [
    "data = response.json()\n",
    "text = data['query']['pages']['22834']['extract']"
   ]
  },
  {
   "cell_type": "code",
   "execution_count": 16,
   "id": "6496fa04",
   "metadata": {},
   "outputs": [],
   "source": [
    "def fcleaning(tags):\n",
    "    \n",
    "    text = re.compile('<.*?>')\n",
    "    processing = re.sub(text, '', tags)\n",
    "    \n",
    "    return processing\n",
    "\n",
    "ftext = fcleaning(text)"
   ]
  },
  {
   "cell_type": "code",
   "execution_count": 18,
   "id": "af2ce86c",
   "metadata": {},
   "outputs": [],
   "source": [
    "def merge_contents(data):\n",
    "    \n",
    "    fsplit_text = re.split(\"\\. |\\.|, | |\\n|-|\\'\", data)\n",
    "    return fsplit_text\n",
    "\n",
    "merge_content = merge_contents(ftext)"
   ]
  },
  {
   "cell_type": "code",
   "execution_count": 20,
   "id": "2afb3792",
   "metadata": {},
   "outputs": [],
   "source": [
    "def tokenize(content):\n",
    "    \n",
    "    symbols_del = [i for i in content if i.isalnum()]\n",
    "    digits_del = [j for j in symbols_del if not j.isdigit()]\n",
    "    \n",
    "    return digits_del\n",
    "\n",
    "collection = tokenize(merge_content)"
   ]
  },
  {
   "cell_type": "code",
   "execution_count": 22,
   "id": "f991cfb5",
   "metadata": {},
   "outputs": [],
   "source": [
    "def lower_collection(collection):\n",
    "    \n",
    "    lowering = [col.lower() for col in collection]\n",
    "    return lowering\n",
    "\n",
    "downcase_text = lower_collection(collection)"
   ]
  },
  {
   "cell_type": "code",
   "execution_count": 24,
   "id": "97bb87bd",
   "metadata": {},
   "outputs": [],
   "source": [
    "def count_frequency(collection):\n",
    "\n",
    "    frequence = {}\n",
    "    for i in collection:\n",
    "        if i in frequence:\n",
    "            frequence[i] += 1\n",
    "        else:\n",
    "            frequence[i] = 1\n",
    "    return frequence\n",
    "    \n",
    "frequencies = count_frequency(downcase_text)"
   ]
  },
  {
   "cell_type": "code",
   "execution_count": 26,
   "id": "8b414c10",
   "metadata": {},
   "outputs": [],
   "source": [
    "frequencies = {key:value for key, value in sorted(frequencies.items(), \n",
    "            key = lambda item: item[1], reverse = True)}"
   ]
  },
  {
   "cell_type": "code",
   "execution_count": 28,
   "id": "d9342886",
   "metadata": {},
   "outputs": [],
   "source": [
    "stop_words = [ \"the\", \"a\", \"of\", \"to\", \"in\", \"about\", \"is\", \"an\",\n",
    "              \"by\", \"that\", \"for\", \"was\", \"were\", \"are\", \"from\", \"at\",\n",
    "              \"it\", \"as\", \"be\", \"these\", \"on\", \"with\", \"this\", \"have\", \"has\", \"other\",\n",
    "              \"because\", \"can\", \"its\", \"out\",\"into\", \"or\", \n",
    "              \"over\", \"all\", \"most\", \"which\", \"less\", \"while\", \"above\", \"than\", 's', \"and\"\n",
    "             ]"
   ]
  },
  {
   "cell_type": "code",
   "execution_count": 38,
   "id": "66958b75",
   "metadata": {},
   "outputs": [],
   "source": [
    "processed_text = [i for i in downcase_text if i not in stop_words] "
   ]
  },
  {
   "cell_type": "code",
   "execution_count": 39,
   "id": "4d0b0207",
   "metadata": {},
   "outputs": [],
   "source": [
    "frequency_of = count_frequency(processed_text)"
   ]
  },
  {
   "cell_type": "code",
   "execution_count": 40,
   "id": "2ecf3ebc",
   "metadata": {},
   "outputs": [],
   "source": [
    "frequency_of = {k:v for k, v in sorted(frequency_of.items(),\n",
    "                key = lambda item: item[1], reverse = True)}"
   ]
  },
  {
   "cell_type": "code",
   "execution_count": 42,
   "id": "ed74622c",
   "metadata": {},
   "outputs": [
    {
     "data": {
      "text/plain": [
       "<AxesSubplot:>"
      ]
     },
     "execution_count": 42,
     "metadata": {},
     "output_type": "execute_result"
    },
    {
     "data": {
      "image/png": "[encoded data removed]",
      "text/plain": [
       "<Figure size 432x288 with 1 Axes>"
      ]
     },
     "metadata": {
      "needs_background": "light"
     },
     "output_type": "display_data"
    }
   ],
   "source": [
    "gr_x = [v for k, v in frequency_of.items()]\n",
    "gr_y = [k for k, v in frequency_of.items()]\n",
    "\n",
    "st_data_vis.barplot(x = gr_x[0:20], y = gr_y[0:20])"
   ]
  }
 ],
 "metadata": {
  "kernelspec": {
   "display_name": "Python 3",
   "language": "python",
   "name": "python3"
  },
  "language_info": {
   "codemirror_mode": {
    "name": "ipython",
    "version": 3
   },
   "file_extension": ".py",
   "mimetype": "text/x-python",
   "name": "python",
   "nbconvert_exporter": "python",
   "pygments_lexer": "ipython3",
   "version": "3.6.7"
  }
 },
 "nbformat": 4,
 "nbformat_minor": 5
}
