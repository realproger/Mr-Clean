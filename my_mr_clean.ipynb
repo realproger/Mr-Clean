{
 "cells": [
  {
   "cell_type": "code",
   "execution_count": 2,
   "id": "d58a8456",
   "metadata": {},
   "outputs": [],
   "source": [
    "import requests"
   ]
  },
  {
   "cell_type": "code",
   "execution_count": 3,
   "id": "37e4b162",
   "metadata": {},
   "outputs": [],
   "source": [
    "import re "
   ]
  },
  {
   "cell_type": "code",
   "execution_count": 4,
   "id": "156bb7a4",
   "metadata": {},
   "outputs": [],
   "source": [
    "import seaborn as st_data_vis"
   ]
  },
  {
   "cell_type": "code",
   "execution_count": 5,
   "id": "e447b2b4",
   "metadata": {},
   "outputs": [],
   "source": [
    "from bs4 import BeautifulSoup"
   ]
  },
  {
   "cell_type": "code",
   "execution_count": 51,
   "id": "e85f31d4",
   "metadata": {},
   "outputs": [],
   "source": [
    "def get_content(title):\n",
    "    url = \"https://en.wikipedia.org/w/api.php\"\n",
    "    response = requests.get(url, params = {\"action\": \"query\", \"prop\": \"extracts\", \"titles\": title, \"format\": \"json\"})\n",
    "    data = response.json()\n",
    "#     page = next(iter(data['query']['pages'].values()))\n",
    "#     content = page['extract']\n",
    "#     return content\n",
    "    return data\n",
    "\n",
    "\n",
    "\n",
    "data = get_content(\"Ozone_layer\")"
   ]
  },
  {
   "cell_type": "code",
   "execution_count": 41,
   "id": "cec87f1d",
   "metadata": {},
   "outputs": [],
   "source": [
    "def merge_contents(data):\n",
    "    \n",
    "    data = data['query']['pages']['22834']['extract']\n",
    "    soup = BeautifulSoup(data, 'html.parser')\n",
    "    content = []\n",
    "    for p in soup.find_all('p'):\n",
    "        content.append(p.text)\n",
    "    return ''.join(content)\n",
    "\n",
    "merge_content = merge_contents(data)"
   ]
  },
  {
   "cell_type": "code",
   "execution_count": 42,
   "id": "3a6414ab",
   "metadata": {},
   "outputs": [],
   "source": [
    "def tokenize(content, delimiters=[' ', '\\n', '.']):\n",
    "    words = []\n",
    "    for delimiter in delimiters:\n",
    "        content = content.replace(delimiter, ' ')\n",
    "    for word in content.split(' '):\n",
    "        if len(word) > 0:\n",
    "            words.append(word)\n",
    "    return words\n",
    "\n",
    "collection = tokenize(merge_content)"
   ]
  },
  {
   "cell_type": "code",
   "execution_count": 43,
   "id": "dd6d7422",
   "metadata": {},
   "outputs": [],
   "source": [
    "def lower_collection(collection):\n",
    "    \n",
    "    lowering = [col.lower() for col in collection]\n",
    "    return lowering\n",
    "\n",
    "downcase_col = lower_collection(collection)"
   ]
  },
  {
   "cell_type": "code",
   "execution_count": 44,
   "id": "68421d1a",
   "metadata": {},
   "outputs": [],
   "source": [
    "def count_frequency(collection):\n",
    "    frequency = {}\n",
    "    for i in collection:\n",
    "        if i in frequency:\n",
    "            frequency[i] += 1\n",
    "        else:\n",
    "            frequency[i] = 1\n",
    "    return frequency\n",
    "\n",
    "frequencies = count_frequency(downcase_col)"
   ]
  },
  {
   "cell_type": "code",
   "execution_count": 45,
   "id": "b8e11133",
   "metadata": {},
   "outputs": [],
   "source": [
    "def print_most_frequent(frequencies, n):\n",
    "    frequencies = {key:value for key, value in sorted(frequencies.items(), \n",
    "            key = lambda item: item[1], reverse = True)}\n",
    "    gr_x = [v for k, v in frequencies.items()]\n",
    "    gr_y = [k for k, v in frequencies.items()]\n",
    "\n",
    "    return st_data_vis.barplot(x = gr_x[n], y = gr_y[n])\n"
   ]
  },
  {
   "cell_type": "code",
   "execution_count": 46,
   "id": "708d24bf",
   "metadata": {},
   "outputs": [],
   "source": [
    "frequencies = {key:value for key, value in sorted(frequencies.items(), \n",
    "            key = lambda item: item[1], reverse = True)}"
   ]
  },
  {
   "cell_type": "code",
   "execution_count": 47,
   "id": "c0d946f4",
   "metadata": {},
   "outputs": [],
   "source": [
    "stop_words = [ \"the\", \"a\", \"of\", \"to\", \"in\", \"about\", \"is\", \"an\",\n",
    "              \"by\", \"that\", \"for\", \"was\", \"were\", \"are\", \"from\", \"at\",\n",
    "              \"it\", \"as\", \"be\", \"these\", \"on\", \"with\", \"this\", \"have\", \"has\", \"other\",\n",
    "              \"because\", \"can\", \"its\", \"out\",\"into\", \"or\", \n",
    "              \"over\", \"all\", \"most\", \"which\", \"less\", \"while\", \"above\", \"than\", 's', \"and\"\n",
    "             ]\n",
    "processed_text = [i for i in downcase_col if i not in stop_words] \n",
    "frequency_of = count_frequency(processed_text)"
   ]
  },
  {
   "cell_type": "code",
   "execution_count": 48,
   "id": "2bfeb79d",
   "metadata": {},
   "outputs": [],
   "source": [
    "frequency_of = {k:v for k, v in sorted(frequency_of.items(),\n",
    "                key = lambda item: item[1], reverse = True)}\n"
   ]
  },
  {
   "cell_type": "code",
   "execution_count": 49,
   "id": "bad4a173",
   "metadata": {},
   "outputs": [
    {
     "data": {
      "text/plain": [
       "<AxesSubplot:>"
      ]
     },
     "execution_count": 49,
     "metadata": {},
     "output_type": "execute_result"
    },
    {
     "data": {
      "image/png": "[encoded data removed]",
      "text/plain": [
       "<Figure size 432x288 with 1 Axes>"
      ]
     },
     "metadata": {
      "needs_background": "light"
     },
     "output_type": "display_data"
    }
   ],
   "source": [
    "gr_x = [v for k, v in frequency_of.items()]\n",
    "gr_y = [k for k, v in frequency_of.items()]\n",
    "\n",
    "st_data_vis.barplot(x = gr_x[0:20], y = gr_y[0:20])"
   ]
  },
  {
   "cell_type": "code",
   "execution_count": 50,
   "id": "558d9316",
   "metadata": {},
   "outputs": [
    {
     "name": "stdout",
     "output_type": "stream",
     "text": [
      "\n",
      "\u001b[94m\n",
      " ██████╗ ██╗    ██╗ █████╗ ███████╗ █████╗ ██████╗    ██╗ ██████╗ \n",
      "██╔═══██╗██║    ██║██╔══██╗██╔════╝██╔══██╗██╔══██╗   ██║██╔═══██╗\n",
      "██║   ██║██║ █╗ ██║███████║███████╗███████║██████╔╝   ██║██║   ██║\n",
      "██║▄▄ ██║██║███╗██║██╔══██║╚════██║██╔══██║██╔══██╗   ██║██║   ██║\n",
      "╚██████╔╝╚███╔███╔╝██║  ██║███████║██║  ██║██║  ██║██╗██║╚██████╔╝\n",
      " ╚══▀▀═╝  ╚══╝╚══╝ ╚═╝  ╚═╝╚══════╝╚═╝  ╚═╝╚═╝  ╚═╝╚═╝╚═╝ ╚═════╝ \n",
      "\t\t\t\t\t\t\t\t\t\t\t\t\t\t\t\t\t\t\t\t\t\t\t\t\t\t\t\t\t\t\t\t \u001b[0m\n",
      "Booting Gandalf v4.1.12-deab022 (production)\n",
      "Loading parameters:  \u001b[32mOK\u001b[0m\n",
      "User tolbayev_m connection: \u001b[32mOK\u001b[0m\n",
      "\n",
      "\n",
      "<MY_MR_CLEAN>\n",
      "Directory . exists: \u001b[32mOK\u001b[0m\n",
      "Pushing exercise: \u001b[32mOK\u001b[0m\n",
      "Printing your report:\n",
      "\n",
      " \u001b[97;1;40m     REPORT      \u001b[0m  \u001b[97mMY MR CLEAN\u001b[0m \n",
      "\n",
      " Status             \u001b[92mSUCCESS\u001b[0m     \n",
      " Execution Runtime  4.212179    \n",
      " Score              [\u001b[32m=\u001b[0m\u001b[32m=\u001b[0m\u001b[32m=\u001b[0m\u001b[32m=\u001b[0m\u001b[33m-\u001b[0m] 4/5 \n",
      "\n",
      "\n",
      "Checks detail Report:\n",
      "\n",
      " \u001b[97;1;40mTEST COUNT FREQUENCY\u001b[0m  \u001b[92mSUCCESS\u001b[0m \n",
      "\n",
      "\n",
      "\n",
      " \u001b[97;1;40mTEST GET CONTENT\u001b[0m  \u001b[92mSUCCESS\u001b[0m \n",
      "\n",
      "\n",
      "\n",
      " \u001b[97;1;40mTEST LOWER COLLECTION\u001b[0m  \u001b[92mSUCCESS\u001b[0m \n",
      "\n",
      "\n",
      "\n",
      " \u001b[97;1;40mTEST MERGE CONTENTS\u001b[0m  \u001b[92mSUCCESS\u001b[0m \n",
      "\n",
      "\n",
      "\n",
      " \u001b[97;1;40m    TEST TOKENIZE    \u001b[0m  \u001b[91m                                                                                                                                                                                                                                                                                                                                                                                                                                                                                                                                 FAILURE                                                                                                                                                                                                                                                                                                                                                                                                                                                                                                                                  \u001b[0m \n",
      "\n",
      " Input                                                                                                                                                                                                                                                                                                                                                                                                                                                                                                                                                                                                                                                                                                                                                                                                                                                                                                                                                                                                                                                                                             \n",
      " Expected Output        \"\"                                                                                                                                                                                                                                                                                                                                                                                                                                                                                                                                                                                                                                                                                                                                                                                                                                                                                                                                                                                                                                                                         \n",
      " Expected Return Value                                                                                                                                                                                                                                                                                                                                                                                                                                                                                                                                                                                                                                                                                                                                                                                                                                                                                                                                                                                                                                                                             \n",
      " Output                     def test_tokenize(self):                                                                                                                                                                                                                                                                                                                                                                                                                                                                                                                                                                                                                                                                                                                                                                                                                                                                                                                                                                                                                                               \n",
      "                                gold_collection = ['Lorem', 'ipsum', 'dolor', 'sit', 'amet', 'consectetur', 'adipiscing', 'elit', 'Aliquam', 'a', 'cursus', 'elit', 'sed', 'viverra', 'justo', 'Integer', 'tempus', 'ante', 'at', 'odio', 'commodo', 'et', 'ornare', 'ipsum', 'dapibus', 'Donec', 'bibendum', 'sit', 'amet', 'urna', 'sit', 'amet', 'facilisis', 'Donec', 'accumsan', 'odio', 'ligula', 'Proin', 'sodales', 'sapien', 'at', 'risus', 'viverra', 'at', 'vehicula', 'dolor', 'malesuada', 'Aenean', 'scelerisque', 'tristique', 'ultricies', 'Lorem', 'ipsum', 'dolor', 'sit', 'amet', 'consectetur', 'adipiscing', 'elit', 'Etiam', 'euismod', 'scelerisque', 'lacinia', 'Proin', 'sit', 'amet', 'nisi', 'orci', 'Donec', 'aliquet', 'eros', 'ac', 'sem', 'fringilla', 'eu', 'rutrum', 'urna', 'malesuada', 'Cras', 'ut', 'congue', 'massa', 'Nam', 'fermentum', 'odio', 'ac', 'purus', 'varius', 'ac', 'tempus', 'elit', 'bibendum', 'Donec', 'turpis', 'leo', 'imperdiet', 'eget', 'blandit', 'non', 'commodo', 'auctor', 'risus', 'Praesent', 'interdum', 'bibendum', 'gravida'] \n",
      "                                                                                                                                                                                                                                                                                                                                                                                                                                                                                                                                                                                                                                                                                                                                                                                                                                                                                                                                                                                                                                                                                                   \n",
      "                                user_collection = eg.tokenize('Lorem ipsum dolor sit amet, consectetur adipiscing elit. Aliquam a cursus elit, sed viverra justo. Integer tempus ante at odio commodo, et ornare ipsum dapibus. Donec bibendum sit amet urna sit amet facilisis. Donec accumsan odio ligula. Proin sodales sapien at risus viverra, at vehicula dolor malesuada. Aenean scelerisque tristique ultricies. Lorem ipsum dolor sit amet, consectetur adipiscing elit. Etiam euismod scelerisque lacinia. Proin sit amet nisi orci. Donec aliquet eros ac sem fringilla, eu rutrum urna malesuada. Cras ut congue massa. Nam fermentum odio ac purus varius, ac tempus elit bibendum. Donec turpis leo, imperdiet eget blandit non, commodo auctor risus. Praesent interdum bibendum gravida.')                                                                                                                                                                                                                                                                                         \n",
      "                                                                                                                                                                                                                                                                                                                                                                                                                                                                                                                                                                                                                                                                                                                                                                                                                                                                                                                                                                                                                                                                                                   \n",
      "                                self.assertTrue(gold_collection == user_collection)                                                                                                                                                                                                                                                                                                                                                                                                                                                                                                                                                                                                                                                                                                                                                                                                                                                                                                                                                                                                                \n",
      "                                                                                                                                                                                                                                                                                                                                                                                                                                                                                                                                                                                                                                                                                                                                                                                                                                                                                                                                                                                                                                                                                                   \n",
      " Return Value                                                                                                                                                                                                                                                                                                                                                                                                                                                                                                                                                                                                                                                                                                                                                                                                                                                                                                                                                                                                                                                                                      \n",
      "\n",
      "Your Stderr:\n",
      "False is not true\n",
      "</MY_MR_CLEAN>\n"
     ]
    }
   ],
   "source": [
    "!gandalf"
   ]
  },
  {
   "cell_type": "code",
   "execution_count": null,
   "id": "c0d29929",
   "metadata": {},
   "outputs": [],
   "source": []
  }
 ],
 "metadata": {
  "kernelspec": {
   "display_name": "Python 3",
   "language": "python",
   "name": "python3"
  },
  "language_info": {
   "codemirror_mode": {
    "name": "ipython",
    "version": 3
   },
   "file_extension": ".py",
   "mimetype": "text/x-python",
   "name": "python",
   "nbconvert_exporter": "python",
   "pygments_lexer": "ipython3",
   "version": "3.6.7"
  }
 },
 "nbformat": 4,
 "nbformat_minor": 5
}
